{
 "cells": [
  {
   "cell_type": "markdown",
   "metadata": {},
   "source": [
    "# Lab session 1 ---- Linear Regression"
   ]
  },
  {
   "cell_type": "markdown",
   "metadata": {},
   "source": [
    "Student:                       \n",
    "Date:"
   ]
  },
  {
   "cell_type": "markdown",
   "metadata": {},
   "source": [
    "## I. Introduction\n",
    "In this exercise, we will implement linear regression with one and multiple variables, as well as gradient descent."
   ]
  },
  {
   "cell_type": "markdown",
   "metadata": {},
   "source": [
    "## II. Linear regression with one variable\n",
    "Suppose you are the CEO of a restaurant franchise and are considering different cities for opening a new food truck. The chain already has trucks in various cities and you have data for profits and populations from the cities.\n",
    "You would like to use this data to help you select which city to expand to next. The file lab1data1.txt contains the dataset: the first column is the poplulation of a city and the second column is the profit of a food truck in that city. An negative value for profit indicates a loss."
   ]
  },
  {
   "cell_type": "markdown",
   "metadata": {},
   "source": [
    "### Solution Question 1"
   ]
  },
  {
   "cell_type": "code",
   "execution_count": 30,
   "metadata": {},
   "outputs": [
    {
     "name": "stdout",
     "output_type": "stream",
     "text": [
      "[[  6.1101]\n",
      " [  5.5277]\n",
      " [  8.5186]\n",
      " [  7.0032]\n",
      " [  5.8598]\n",
      " [  8.3829]\n",
      " [  7.4764]\n",
      " [  8.5781]\n",
      " [  6.4862]\n",
      " [  5.0546]\n",
      " [  5.7107]\n",
      " [ 14.164 ]\n",
      " [  5.734 ]\n",
      " [  8.4084]\n",
      " [  5.6407]\n",
      " [  5.3794]\n",
      " [  6.3654]\n",
      " [  5.1301]\n",
      " [  6.4296]\n",
      " [  7.0708]\n",
      " [  6.1891]\n",
      " [ 20.27  ]\n",
      " [  5.4901]\n",
      " [  6.3261]\n",
      " [  5.5649]\n",
      " [ 18.945 ]\n",
      " [ 12.828 ]\n",
      " [ 10.957 ]\n",
      " [ 13.176 ]\n",
      " [ 22.203 ]\n",
      " [  5.2524]\n",
      " [  6.5894]\n",
      " [  9.2482]\n",
      " [  5.8918]\n",
      " [  8.2111]\n",
      " [  7.9334]\n",
      " [  8.0959]\n",
      " [  5.6063]\n",
      " [ 12.836 ]\n",
      " [  6.3534]\n",
      " [  5.4069]\n",
      " [  6.8825]\n",
      " [ 11.708 ]\n",
      " [  5.7737]\n",
      " [  7.8247]\n",
      " [  7.0931]\n",
      " [  5.0702]\n",
      " [  5.8014]\n",
      " [ 11.7   ]\n",
      " [  5.5416]\n",
      " [  7.5402]\n",
      " [  5.3077]\n",
      " [  7.4239]\n",
      " [  7.6031]\n",
      " [  6.3328]\n",
      " [  6.3589]\n",
      " [  6.2742]\n",
      " [  5.6397]\n",
      " [  9.3102]\n",
      " [  9.4536]\n",
      " [  8.8254]\n",
      " [  5.1793]\n",
      " [ 21.279 ]\n",
      " [ 14.908 ]\n",
      " [ 18.959 ]\n",
      " [  7.2182]\n",
      " [  8.2951]\n",
      " [ 10.236 ]\n",
      " [  5.4994]\n",
      " [ 20.341 ]\n",
      " [ 10.136 ]\n",
      " [  7.3345]\n",
      " [  6.0062]\n",
      " [  7.2259]\n",
      " [  5.0269]\n",
      " [  6.5479]\n",
      " [  7.5386]\n",
      " [  5.0365]\n",
      " [ 10.274 ]\n",
      " [  5.1077]\n",
      " [  5.7292]\n",
      " [  5.1884]\n",
      " [  6.3557]\n",
      " [  9.7687]\n",
      " [  6.5159]\n",
      " [  8.5172]\n",
      " [  9.1802]\n",
      " [  6.002 ]\n",
      " [  5.5204]\n",
      " [  5.0594]\n",
      " [  5.7077]\n",
      " [  7.6366]\n",
      " [  5.8707]\n",
      " [  5.3054]\n",
      " [  8.2934]\n",
      " [ 13.394 ]\n",
      " [  5.4369]]\n"
     ]
    },
    {
     "data": {
      "image/png": "[encoded data removed]",
      "text/plain": [
       "<matplotlib.figure.Figure at 0x7fc2650226d0>"
      ]
     },
     "metadata": {},
     "output_type": "display_data"
    }
   ],
   "source": [
    "import numpy as np\n",
    "import matplotlib.pyplot as plt\n",
    "import pylab\n",
    "    \n",
    "# loading\n",
    "data = np.loadtxt('lab1data1.txt', delimiter=',' )\n",
    "\n",
    "#separating\n",
    "x=np.atleast_2d(data[:,:-1])\n",
    "y=data[:,-1]\n",
    "print(x)\n",
    "\n",
    "#ploating\n",
    "plt.plot(x,y,'bx', label='training')\n",
    "plt.xlabel('Population of city in 10000s')\n",
    "plt.xlabel('Profit in $10000s')\n",
    "plt.show()\n"
   ]
  },
  {
   "cell_type": "markdown",
   "metadata": {},
   "source": [
    "### Solution Question 2"
   ]
  },
  {
   "cell_type": "code",
   "execution_count": 31,
   "metadata": {},
   "outputs": [
    {
     "name": "stdout",
     "output_type": "stream",
     "text": [
      "[ 0.71726101 -0.01357131]\n",
      "[-3.89578088  1.19303364]\n"
     ]
    },
    {
     "data": {
      "image/png": "[encoded data removed]",
      "text/plain": [
       "<matplotlib.figure.Figure at 0x7fc265106d10>"
      ]
     },
     "metadata": {},
     "output_type": "display_data"
    }
   ],
   "source": [
    "# Linear Regression\n",
    "def linear_regression(x,y):\n",
    "    \n",
    "    length = len(x);\n",
    "    A = sum(x*y)-sum(x)*sum(y)\n",
    "    B = sum(x**2)-(sum(x))**2\n",
    "    \n",
    "    w1 = (length*A)/(length*B)\n",
    "    w0 = np.mean(y)-w1*np.mean(x)\n",
    "    \n",
    "    w = [w1,w0]\n",
    "    \n",
    "    return w\n",
    "#Plot\n",
    "wt = linear_regression(x,y)\n",
    "\n",
    "w1, w0 = wt\n",
    "yr = w0 + w1 * x\n",
    "\n",
    "plt.plot(x,np.mean(yr, axis=1))\n",
    "plt.plot(x,y,'rx')\n",
    "\n",
    "intercept = np.ones((x.shape[0],1))\n",
    "Xstack = np.asmatrix(np.hstack((intercept,x)))\n",
    "wt2,_,_,_=np.linalg.lstsq(Xstack,y)\n",
    "print(np.mean(wt, axis=1))\n",
    "print(wt2)\n",
    "\n",
    "yrtrue = wt2[1] * x + wt2[0]\n",
    "plt.plot(x,yrtrue, 'g')    \n",
    "plt.show()"
   ]
  },
  {
   "cell_type": "markdown",
   "metadata": {},
   "source": [
    "### Solution Question 3"
   ]
  },
  {
   "cell_type": "code",
   "execution_count": 32,
   "metadata": {},
   "outputs": [
    {
     "name": "stdout",
     "output_type": "stream",
     "text": [
      "The parameters estimated are : [  2798.3686  44554.546 ]\n"
     ]
    }
   ],
   "source": [
    "# Making Predictions\n",
    "\n",
    "test = np.array ([3.5,7.0])\n",
    "w = [1.19303364,-3.89578088]\n",
    "def predict (wt2,y):\n",
    "    y = np.vstack([y.flatten(),np.ones(len(y.flatten()))])\n",
    "    predict = np.dot(wt2,y)\n",
    "    return predict\n",
    "\n",
    "prediction = predict(w,test)\n",
    "print('The parameters estimated are : {}'.format(prediction*10000))"
   ]
  },
  {
   "cell_type": "markdown",
   "metadata": {},
   "source": [
    "## III. Linear regression with multiple variables\n",
    "Suppose you are selling your house and you want to know what a good market price would be. One way to do this is to collect information on recent houses sold and make a model of housing prices.\n",
    "The file lab1data2.txt contains a training set of housing prices in a city. The first column is the size of the house (in square feet), the second column is the number of bedrooms and the third column is the price of the house."
   ]
  },
  {
   "cell_type": "markdown",
   "metadata": {},
   "source": [
    "### Solution Question 1"
   ]
  },
  {
   "cell_type": "code",
   "execution_count": 33,
   "metadata": {},
   "outputs": [
    {
     "name": "stdout",
     "output_type": "stream",
     "text": [
      "The parameters estimated are: [ 89597.9095428     139.21067402  -8738.01911233]\n"
     ]
    }
   ],
   "source": [
    "#Loading Data\n",
    "data1 = np.loadtxt('lab1data2.txt', delimiter=',')\n",
    "#print(data1)\n",
    "\n",
    "def linear_RedMultiple(data):\n",
    "    x = data[:,0:2]\n",
    "    y = data[:,2]\n",
    "    x = np.vstack((np.ones((1,x.shape[0])),x.T)).T\n",
    "    w,_,_,_ = np.linalg.lstsq(x,y,rcond=0)\n",
    "    return w\n",
    "\n",
    "w = linear_RedMultiple(data1)\n",
    "print('The parameters estimated are: {}'.format(w))\n"
   ]
  },
  {
   "cell_type": "markdown",
   "metadata": {},
   "source": [
    "### Solution Question 2"
   ]
  },
  {
   "cell_type": "code",
   "execution_count": 34,
   "metadata": {
    "collapsed": true
   },
   "outputs": [],
   "source": [
    "def featureNormalize(x,mu = None, std_dev = None):\n",
    "    norm = np.zeros_like(x)\n",
    "    if (not mu):\n",
    "        mu = np.mean(x)\n",
    "        std_dev = np.std(x)\n",
    "    norm = (x - mu)/ std_dev\n",
    "    return norm\n",
    "    "
   ]
  },
  {
   "cell_type": "markdown",
   "metadata": {},
   "source": [
    "### Solution Question 3"
   ]
  },
  {
   "cell_type": "code",
   "execution_count": 35,
   "metadata": {},
   "outputs": [
    {
     "name": "stdout",
     "output_type": "stream",
     "text": [
      "The parameters estimated are: [ -8.88030989e-17   8.84765988e-01  -5.31788197e-02]\n"
     ]
    }
   ],
   "source": [
    "\n",
    "# Normalizaing the data of data1\n",
    "data2 = np.zeros_like(data1)\n",
    "data2[:,0] = featureNormalize(data1[:,0])\n",
    "data2[:,1] = featureNormalize(data1[:,1])\n",
    "data2[:,2] = featureNormalize(data1[:,2])\n",
    "#print(data2)\n",
    "\n",
    "#Linear Regression on two variables\n",
    "w = linear_RedMultiple(data2)\n",
    "print('The parameters estimated are: {}'.format(w))\n"
   ]
  },
  {
   "cell_type": "markdown",
   "metadata": {},
   "source": [
    "### Solution Question 4"
   ]
  },
  {
   "cell_type": "code",
   "execution_count": 36,
   "metadata": {},
   "outputs": [
    {
     "name": "stdout",
     "output_type": "stream",
     "text": [
      "[-63.08735085  -1.53401297]\n"
     ]
    }
   ],
   "source": [
    "#Making Predictions\n",
    "x_test = np.array ([16.50, 0.7])\n",
    "w =  [ -8.88030989e-17, 8.84765988e-01, -5.31788197e-02]\n",
    "\n",
    "def predict (w,y):\n",
    "    y = np.vstack([y.flatten(), np.ones(len(y.flatten()))])\n",
    "    predict = np.dot(wt2,y)\n",
    "    return predict\n",
    "\n",
    "prediction = predict (w,x_test)\n",
    "print(prediction)\n"
   ]
  },
  {
   "cell_type": "markdown",
   "metadata": {},
   "source": [
    "## IV. Gradient descent\n",
    "We will now perform linear regression using gradient descent."
   ]
  },
  {
   "cell_type": "markdown",
   "metadata": {},
   "source": [
    "### Solution Question 1"
   ]
  },
  {
   "cell_type": "code",
   "execution_count": null,
   "metadata": {
    "collapsed": true
   },
   "outputs": [],
   "source": []
  },
  {
   "cell_type": "markdown",
   "metadata": {},
   "source": [
    "### Solution Question 2"
   ]
  },
  {
   "cell_type": "code",
   "execution_count": null,
   "metadata": {
    "collapsed": true
   },
   "outputs": [],
   "source": []
  },
  {
   "cell_type": "markdown",
   "metadata": {},
   "source": [
    "### Solution Question 3"
   ]
  },
  {
   "cell_type": "code",
   "execution_count": null,
   "metadata": {
    "collapsed": true
   },
   "outputs": [],
   "source": []
  }
 ],
 "metadata": {
  "anaconda-cloud": {},
  "kernelspec": {
   "display_name": "Python 2",
   "language": "python",
   "name": "python2"
  },
  "language_info": {
   "codemirror_mode": {
    "name": "ipython",
    "version": 2
   },
   "file_extension": ".py",
   "mimetype": "text/x-python",
   "name": "python",
   "nbconvert_exporter": "python",
   "pygments_lexer": "ipython2",
   "version": "2.7.13"
  }
 },
 "nbformat": 4,
 "nbformat_minor": 1
}
